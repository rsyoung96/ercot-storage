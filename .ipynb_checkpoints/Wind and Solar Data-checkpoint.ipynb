{
 "cells": [
  {
   "cell_type": "code",
   "execution_count": 6,
   "metadata": {},
   "outputs": [],
   "source": [
    "import cvxpy as cp\n",
    "import numpy as np\n",
    "import csv"
   ]
  },
  {
   "cell_type": "code",
   "execution_count": 7,
   "metadata": {},
   "outputs": [],
   "source": [
    "#import the resource codes\n",
    "def load_file_60d(filename):\n",
    "    with open(filename) as file:\n",
    "        reader = csv.reader(file)\n",
    "        next(reader)\n",
    "        data={}\n",
    "        while True:\n",
    "            try:\n",
    "                next_line = next(reader)\n",
    "            except StopIteration:\n",
    "                break\n",
    "            if next_line[1]!='1':\n",
    "                break\n",
    "            data[next_line[2]] = 'UNK'\n",
    "#             data.append({next_line[2]:'UNK'})\n",
    "    return data  "
   ]
  },
  {
   "cell_type": "code",
   "execution_count": 8,
   "metadata": {},
   "outputs": [],
   "source": [
    "#map resource code to resource type\n",
    "def code_to_type(filename, data):\n",
    "    with open(filename) as file:\n",
    "        reader = csv.reader(file)\n",
    "        next(reader)\n",
    "        while True:\n",
    "            try:\n",
    "                next_line = next(reader)\n",
    "            except StopIteration:\n",
    "                break\n",
    "            if next_line[2] in data:\n",
    "                if data[next_line[2]]!='UNK':\n",
    "                    break\n",
    "                data[next_line[2]] = next_line[3]"
   ]
  },
  {
   "cell_type": "code",
   "execution_count": 109,
   "metadata": {},
   "outputs": [],
   "source": [
    "#add the resource types together\n",
    "def wind_solar_added(filename, data, wind, solar, percent_wind , percent_solar):\n",
    "    wind_total = 20271\n",
    "    solar_total = 1008\n",
    "    with open(filename) as file:\n",
    "            reader = csv.reader(file)\n",
    "            next(reader)\n",
    "            while True:\n",
    "                try:\n",
    "                    next_line = next(reader)\n",
    "                except StopIteration:\n",
    "                    break\n",
    "                if next_line[0] not in (wind and solar):\n",
    "                    solar[next_line[0]] = 0\n",
    "                    wind[next_line[0]] = 0\n",
    "                    percent_wind[next_line[0]] = 0\n",
    "                if (data[next_line[2]])=='WIND':\n",
    "                    wind[next_line[0]] = (float(wind[next_line[0]]) + float(next_line[3]))\n",
    "                    percent_wind[next_line[0]] = (float(wind[next_line[0]]) + float(next_line[3]))/wind_total\n",
    "                if (data[next_line[2]])=='PVGR':\n",
    "                    solar[next_line[0]]= float(solar[next_line[0]]) + float(next_line[3])\n",
    "                    percent_solar[next_line[0]] = (float(solar[next_line[0]]) + float(next_line[3]))/solar_total\n",
    "#     print (solar)"
   ]
  },
  {
   "cell_type": "code",
   "execution_count": 154,
   "metadata": {},
   "outputs": [],
   "source": [
    "#get the total amount of solar and wind per region\n",
    "def map_to_regions(filename, solar_data, wind_data, wind_regions, solar_regions):\n",
    "    jan_march_wind=0\n",
    "    apr_sep_wind=0\n",
    "    oct_dec_wind=0\n",
    "    jan_march_solar=0\n",
    "    apr_sep_solar=0\n",
    "    oct_dec_solar = 0\n",
    "\n",
    "    \n",
    "    with open(filename) as file:\n",
    "            reader = csv.reader(file)\n",
    "            next(reader)\n",
    "            while True:\n",
    "                try:\n",
    "                    next_line = next(reader)\n",
    "                except StopIteration:\n",
    "                    break\n",
    "                if (next_line[0] == 'WIND-C') or (next_line[0] == 'WIND'):\n",
    "                    jan_march_wind+= float(next_line[2])\n",
    "                    apr_sep_wind+= float(next_line[3])\n",
    "                    oct_dec_wind+= float(next_line[4])\n",
    "                    wind_regions[next_line[1]] += float(next_line[3])\n",
    "                if next_line[0] == 'SOLAR':\n",
    "                    jan_march_solar+= float(next_line[2])\n",
    "                    apr_sep_solar+= float(next_line[3])\n",
    "                    oct_dec_solar+= float(next_line[4])\n",
    "                    solar_regions[next_line[1]] += float(next_line[3])\n",
    "\n",
    "    for i in wind_regions:\n",
    "        wind_regions[i] = float(wind_regions[i]/apr_sep_wind)\n",
    "    for i in solar_regions:\n",
    "        solar_regions[i] = float(solar_regions[i]/apr_sep_solar)\n",
    "    \n",
    "    for i in wind_data:\n",
    "        wind_regions_copy = dict(wind_regions)\n",
    "        for j in wind_regions_copy:\n",
    "            wind_regions_copy[j] = float(wind_regions_copy[j]*wind_data[i])\n",
    "        wind_data[i] = wind_regions_copy\n",
    "            \n",
    "    for i in solar_data:\n",
    "        solar_regions_copy = dict(solar_regions)\n",
    "        for j in solar_regions_copy:\n",
    "            solar_regions_copy[j] = float(solar_regions_copy[j]*solar_data[i])\n",
    "        solar_data[i] = solar_regions_copy\n",
    "        "
   ]
  },
  {
   "cell_type": "code",
   "execution_count": 200,
   "metadata": {},
   "outputs": [],
   "source": [
    "def write_to_csv(wind_data, solar_data):\n",
    "    with open('wind_per_15min.csv', 'w', newline='') as csvfile:\n",
    "        writer = csv.writer(csvfile, delimiter=',',\n",
    "                                quoting=csv.QUOTE_MINIMAL)\n",
    "        writer.writerow(['Time','Coast', 'East', 'FarWest', 'North', 'NorthCentral', 'Northwest', 'South', \n",
    "                    'SouthCentral','West'])\n",
    "        for i in wind_data:\n",
    "            temp = [i];\n",
    "            for j in wind_data[i]:\n",
    "                temp.append(str(wind_data[i][j]))\n",
    "            writer.writerow(temp)"
   ]
  },
  {
   "cell_type": "code",
   "execution_count": 201,
   "metadata": {},
   "outputs": [],
   "source": [
    "data = load_file_60d('60d_SCED_SMNE_GEN_RES-17-APR-18.csv')\n",
    "code_to_type('60d_SCED_Gen_Resource_Data-17-APR-18.csv', data)\n",
    "\n",
    "wind = {}\n",
    "solar = {}\n",
    "percent_wind = {}\n",
    "percent_solar = {}\n",
    "wind_solar_added('60d_SCED_SMNE_GEN_RES-17-APR-18.csv',data, wind, solar, percent_wind, percent_solar)\n",
    "\n",
    "\n",
    "wind_regions = {'Coast':0, 'East':0, 'FarWest':0, 'North':0, 'NorthCentral':0, 'Northwest':0, 'South':0, \n",
    "                    'SouthCentral':0,'West':0}\n",
    "solar_regions= {'Coast':0, 'East':0, 'FarWest':0, 'North':0, 'NorthCentral':0, 'Northwest':0, 'South':0, \n",
    "                    'SouthCentral':0,'West':0}\n",
    "map_to_regions('zonal_generator_capacities_wo_biomass.csv',solar, wind, wind_regions, solar_regions)\n",
    "\n",
    "write_to_csv(wind, solar)\n"
   ]
  },
  {
   "cell_type": "code",
   "execution_count": null,
   "metadata": {},
   "outputs": [],
   "source": []
  },
  {
   "cell_type": "code",
   "execution_count": null,
   "metadata": {},
   "outputs": [],
   "source": []
  }
 ],
 "metadata": {
  "kernelspec": {
   "display_name": "Python 3",
   "language": "python",
   "name": "python3"
  },
  "language_info": {
   "codemirror_mode": {
    "name": "ipython",
    "version": 3
   },
   "file_extension": ".py",
   "mimetype": "text/x-python",
   "name": "python",
   "nbconvert_exporter": "python",
   "pygments_lexer": "ipython3",
   "version": "3.6.4"
  }
 },
 "nbformat": 4,
 "nbformat_minor": 2
}
